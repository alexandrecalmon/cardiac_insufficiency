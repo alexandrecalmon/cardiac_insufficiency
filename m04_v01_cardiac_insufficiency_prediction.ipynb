{
 "cells": [
  {
   "cell_type": "markdown",
   "metadata": {},
   "source": [
    "# 0.0. Imports"
   ]
  },
  {
   "cell_type": "code",
   "execution_count": null,
   "metadata": {
    "ExecuteTime": {
     "end_time": "2020-07-16T13:07:06.796974Z",
     "start_time": "2020-07-16T13:07:04.724978Z"
    }
   },
   "outputs": [],
   "source": [
    "import json\n",
    "import math\n",
    "# import pylab \n",
    "import random\n",
    "import pickle\n",
    "import requests\n",
    "import datetime\n",
    "import warnings\n",
    "warnings.filterwarnings( 'ignore')\n",
    "import inflection\n",
    "import numpy as np\n",
    "import pandas as pd \n",
    "import seaborn as sns\n",
    "import xgboost as xgb\n",
    "                \n",
    "\n",
    "from scipy                 import stats  as ss\n",
    "from sklearn.metrics       import mean_absolute_error, mean_squared_error\n",
    "from sklearn.ensemble      import RandomForestRegressor\n",
    "from sklearn.linear_model  import LinearRegression\n",
    "from sklearn.linear_model  import Lasso\n",
    "from sklearn.preprocessing import MinMaxScaler, LabelEncoder, RobustScaler\n",
    "\n",
    "\n",
    "from flask                         import Flask, request, Response\n",
    "from boruta                        import BorutaPy\n",
    "from matplotlib                    import pyplot as plt\n",
    "from matplotlib                    import gridspec\n",
    "from IPython.display               import Image\n",
    "from IPython.core.display          import HTML\n",
    "from IPython.core.interactiveshell import InteractiveShell\n",
    "\n",
    "%pylab inline\n",
    "%matplotlib inline\n",
    "\n",
    "\n",
    "plt.style.use( 'bmh' )\n",
    "plt.rcParams['figure.figsize'] = [25, 12]\n",
    "plt.rcParams['font.size'] = 24\n",
    "\n",
    "display( HTML( '<style>.container { width:100% !important; }</style>') )\n",
    "pd.options.display.max_columns = None\n",
    "pd.options.display.max_rows = None\n",
    "pd.set_option( 'display.expand_frame_repr', False )\n",
    "\n",
    "sns.set();"
   ]
  },
  {
   "cell_type": "markdown",
   "metadata": {
    "ExecuteTime": {
     "end_time": "2020-07-15T21:47:53.543342Z",
     "start_time": "2020-07-15T21:47:53.539327Z"
    }
   },
   "source": [
    "## 0.1 Helper Functions"
   ]
  },
  {
   "cell_type": "code",
   "execution_count": null,
   "metadata": {},
   "outputs": [],
   "source": []
  },
  {
   "cell_type": "markdown",
   "metadata": {},
   "source": [
    "## 0.2. Loading Data"
   ]
  },
  {
   "cell_type": "code",
   "execution_count": null,
   "metadata": {
    "ExecuteTime": {
     "end_time": "2020-07-16T13:07:06.807968Z",
     "start_time": "2020-07-16T13:07:06.799004Z"
    }
   },
   "outputs": [],
   "source": [
    "df_raw = pd.read_csv('data/heart_failure_clinical_records_dataset.csv')"
   ]
  },
  {
   "cell_type": "markdown",
   "metadata": {},
   "source": [
    "## Attribute Information:\n",
    "\n",
    "Thirteen (13) clinical features:\n",
    "\n",
    "- **age**: age of the patient (years)\n",
    "- **anaemia**: decrease of red blood cells or hemoglobin (boolean)\n",
    "- **high blood pressure**: if the patient has hypertension (boolean)\n",
    "- **creatinine phosphokinase (CPK)**: level of the CPK enzyme in the blood (mcg/L)\n",
    "- **diabetes**: if the patient has diabetes (boolean)\n",
    "- **ejection fraction**: percentage of blood leaving the heart at each contraction (percentage)\n",
    "- **platelets**: platelets in the blood (kiloplatelets/mL)\n",
    "- **sex**: woman or man (binary)\n",
    "- **serum creatinine**: level of serum creatinine in the blood (mg/dL)\n",
    "- **serum sodium**: level of serum sodium in the blood (mEq/L)\n",
    "- **smoking**: if the patient smokes or not (boolean)\n",
    "- **time**: follow-up period (days)\n",
    "- **[target] death event**: if the patient deceased during the follow-up period (boolean)"
   ]
  },
  {
   "cell_type": "code",
   "execution_count": null,
   "metadata": {
    "ExecuteTime": {
     "end_time": "2020-07-16T13:07:06.834013Z",
     "start_time": "2020-07-16T13:07:06.810973Z"
    }
   },
   "outputs": [],
   "source": [
    "df_raw.sample(5)"
   ]
  },
  {
   "cell_type": "markdown",
   "metadata": {},
   "source": [
    "# 1.0. STEP 01 - DESCRIPTION OF DATA"
   ]
  },
  {
   "cell_type": "code",
   "execution_count": null,
   "metadata": {
    "ExecuteTime": {
     "end_time": "2020-07-16T13:07:06.845972Z",
     "start_time": "2020-07-16T13:07:06.836034Z"
    }
   },
   "outputs": [],
   "source": [
    "df1 = df_raw.copy()"
   ]
  },
  {
   "cell_type": "markdown",
   "metadata": {},
   "source": [
    "## 1.1. Rename Columns"
   ]
  },
  {
   "cell_type": "code",
   "execution_count": null,
   "metadata": {
    "ExecuteTime": {
     "end_time": "2020-07-16T13:07:06.859012Z",
     "start_time": "2020-07-16T13:07:06.849966Z"
    }
   },
   "outputs": [],
   "source": [
    "# rename columns so they are all tiny\n",
    "cols_old = ['age', 'anaemia','creatinine_phosphokinase', 'diabetes', 'ejection_fraction', 'high_blood_pressure', 'platelets', 'serum_creatinine','serum_sodium', 'sex', 'smoking', 'time', 'DEATH_EVENT']\n",
    "\n",
    "snakecase = lambda x: inflection.underscore(x)\n",
    "\n",
    "cols_new = list(map(snakecase, cols_old))\n",
    "\n",
    "df1.columns = cols_new"
   ]
  },
  {
   "cell_type": "code",
   "execution_count": null,
   "metadata": {
    "ExecuteTime": {
     "end_time": "2020-07-16T13:07:06.880967Z",
     "start_time": "2020-07-16T13:07:06.860988Z"
    }
   },
   "outputs": [],
   "source": [
    "df1.sample(5)"
   ]
  },
  {
   "cell_type": "markdown",
   "metadata": {},
   "source": [
    "## 1.2. Data Dimensions"
   ]
  },
  {
   "cell_type": "code",
   "execution_count": null,
   "metadata": {
    "ExecuteTime": {
     "end_time": "2020-07-16T13:07:06.894969Z",
     "start_time": "2020-07-16T13:07:06.882967Z"
    }
   },
   "outputs": [],
   "source": [
    "print('Number of Rows : {}'.format(df1.shape[0]))\n",
    "print('Number of Cols : {}'.format(df1.shape[1]))"
   ]
  },
  {
   "cell_type": "markdown",
   "metadata": {},
   "source": [
    "## 1.3. Data Types"
   ]
  },
  {
   "cell_type": "code",
   "execution_count": null,
   "metadata": {
    "ExecuteTime": {
     "end_time": "2020-07-16T13:07:06.908997Z",
     "start_time": "2020-07-16T13:07:06.899999Z"
    }
   },
   "outputs": [],
   "source": [
    "df1.dtypes"
   ]
  },
  {
   "cell_type": "markdown",
   "metadata": {},
   "source": [
    "## 1.4. Check NA"
   ]
  },
  {
   "cell_type": "code",
   "execution_count": null,
   "metadata": {
    "ExecuteTime": {
     "end_time": "2020-07-16T13:07:06.922973Z",
     "start_time": "2020-07-16T13:07:06.912037Z"
    }
   },
   "outputs": [],
   "source": [
    "df1.isna().sum()"
   ]
  },
  {
   "cell_type": "markdown",
   "metadata": {},
   "source": [
    "## 1.5. Fillout NA"
   ]
  },
  {
   "cell_type": "code",
   "execution_count": null,
   "metadata": {},
   "outputs": [],
   "source": []
  },
  {
   "cell_type": "markdown",
   "metadata": {},
   "source": [
    "## 1.6. Change Data Types"
   ]
  },
  {
   "cell_type": "code",
   "execution_count": null,
   "metadata": {},
   "outputs": [],
   "source": []
  },
  {
   "cell_type": "markdown",
   "metadata": {},
   "source": [
    "## 1.7. Descriptive Statistical"
   ]
  },
  {
   "cell_type": "code",
   "execution_count": null,
   "metadata": {
    "ExecuteTime": {
     "end_time": "2020-07-16T13:07:06.936998Z",
     "start_time": "2020-07-16T13:07:06.924969Z"
    }
   },
   "outputs": [],
   "source": [
    "num_attributes = df1.select_dtypes( include=['int64', 'float64'] )"
   ]
  },
  {
   "cell_type": "markdown",
   "metadata": {},
   "source": [
    "### 1.7.1 Numerical Attributes"
   ]
  },
  {
   "cell_type": "code",
   "execution_count": null,
   "metadata": {
    "ExecuteTime": {
     "end_time": "2020-07-16T13:07:07.002967Z",
     "start_time": "2020-07-16T13:07:06.938983Z"
    }
   },
   "outputs": [],
   "source": [
    "# Central Tendency - mean, median\n",
    "ct1 = pd.DataFrame( num_attributes.apply( np.mean ) ).T\n",
    "ct2 = pd.DataFrame( num_attributes.apply( np.median ) ).T\n",
    "\n",
    "# Dispersion - std, min, max, range, skew, kurtosis\n",
    "d1 = pd.DataFrame( num_attributes.apply( np.std ) ).T\n",
    "d2 = pd.DataFrame( num_attributes.apply( min ) ).T\n",
    "d3 = pd.DataFrame( num_attributes.apply( max ) ).T\n",
    "d4 = pd.DataFrame( num_attributes.apply( lambda x: x.max() - x.max() - x.min() ) ).T\n",
    "d5 = pd.DataFrame( num_attributes.apply( lambda x: x.skew() ) ).T\n",
    "d6 = pd.DataFrame( num_attributes.apply( lambda x: x.kurtosis() ) ).T\n",
    "\n",
    "# concatenate\n",
    "m = pd.concat( [d2, d3, d4, ct1, ct2, d1, d5, d6] ).T.reset_index()\n",
    "m.columns = ( ['attributes','min','max','range','mean','median','std','skew','kurtosis'] )\n",
    "m\n"
   ]
  },
  {
   "cell_type": "code",
   "execution_count": null,
   "metadata": {
    "ExecuteTime": {
     "end_time": "2020-07-16T13:07:07.442029Z",
     "start_time": "2020-07-16T13:07:07.004967Z"
    }
   },
   "outputs": [],
   "source": [
    "sns.distplot(df1['serum_sodium']);"
   ]
  },
  {
   "cell_type": "markdown",
   "metadata": {},
   "source": [
    "### 1.7.2. Categorical Attributes"
   ]
  },
  {
   "cell_type": "code",
   "execution_count": null,
   "metadata": {},
   "outputs": [],
   "source": []
  },
  {
   "cell_type": "markdown",
   "metadata": {},
   "source": [
    "# 2.0. STEP 02 - FEATURE ENGINNERING"
   ]
  },
  {
   "cell_type": "code",
   "execution_count": null,
   "metadata": {
    "ExecuteTime": {
     "end_time": "2020-07-16T13:07:07.449034Z",
     "start_time": "2020-07-16T13:07:07.443997Z"
    }
   },
   "outputs": [],
   "source": [
    "df2 = df1.copy()"
   ]
  },
  {
   "cell_type": "markdown",
   "metadata": {},
   "source": [
    "## 2.1. Hypothesis Mind Map"
   ]
  },
  {
   "cell_type": "code",
   "execution_count": null,
   "metadata": {
    "ExecuteTime": {
     "end_time": "2020-07-16T13:07:07.480026Z",
     "start_time": "2020-07-16T13:07:07.450997Z"
    }
   },
   "outputs": [],
   "source": [
    "Image('img/MindMapHypothesis.png')"
   ]
  },
  {
   "cell_type": "markdown",
   "metadata": {},
   "source": [
    "## 2.2. Creation of Hypotheses"
   ]
  },
  {
   "cell_type": "markdown",
   "metadata": {},
   "source": [
    "### 2.2.1. Age Hypothesis"
   ]
  },
  {
   "cell_type": "markdown",
   "metadata": {},
   "source": [
    "**1.** Men die more than women from heart attack"
   ]
  },
  {
   "cell_type": "markdown",
   "metadata": {},
   "source": [
    "### 2.2.2. Sex Hypothesis"
   ]
  },
  {
   "cell_type": "markdown",
   "metadata": {},
   "source": [
    "**1.** Men are more likely to die from heart disease than women."
   ]
  },
  {
   "cell_type": "markdown",
   "metadata": {},
   "source": [
    "### 2.2.3. Smooking Hypothesis"
   ]
  },
  {
   "cell_type": "markdown",
   "metadata": {},
   "source": [
    "**1.** Men who smoke die more from heart attack than women."
   ]
  },
  {
   "cell_type": "markdown",
   "metadata": {},
   "source": [
    "### 2.2.4. Diabetes Hypothesis"
   ]
  },
  {
   "cell_type": "markdown",
   "metadata": {},
   "source": [
    "**1.** People with Diabetes die more from heart attack than people without diabetes."
   ]
  },
  {
   "cell_type": "markdown",
   "metadata": {},
   "source": [
    "### 2.2.5. High Blood Pressure Hypothesis"
   ]
  },
  {
   "cell_type": "markdown",
   "metadata": {},
   "source": [
    "**1.** Women with high blood pressure are more likely to die of a heart attack than men."
   ]
  },
  {
   "cell_type": "markdown",
   "metadata": {},
   "source": [
    "### 2.2.6. Anaemia Hypothesis"
   ]
  },
  {
   "cell_type": "markdown",
   "metadata": {},
   "source": [
    "**1.** Pessoas com anemia morrem mais do que quem não tem anemia."
   ]
  },
  {
   "cell_type": "markdown",
   "metadata": {},
   "source": [
    "## 2.3. Feature Engineering"
   ]
  },
  {
   "cell_type": "code",
   "execution_count": null,
   "metadata": {},
   "outputs": [],
   "source": []
  },
  {
   "cell_type": "markdown",
   "metadata": {},
   "source": [
    "# 3.0. STEP 03 - VARIABLES FILTERING"
   ]
  },
  {
   "cell_type": "code",
   "execution_count": null,
   "metadata": {
    "ExecuteTime": {
     "end_time": "2020-07-16T13:07:07.485007Z",
     "start_time": "2020-07-16T13:07:07.481996Z"
    }
   },
   "outputs": [],
   "source": [
    "df3 = df2.copy()"
   ]
  },
  {
   "cell_type": "markdown",
   "metadata": {},
   "source": [
    "# 4.0. STEP 04 - EXPLORATORY DATA ANALYSIS (EDA)"
   ]
  },
  {
   "cell_type": "code",
   "execution_count": null,
   "metadata": {
    "ExecuteTime": {
     "end_time": "2020-07-16T13:07:07.498007Z",
     "start_time": "2020-07-16T13:07:07.486995Z"
    }
   },
   "outputs": [],
   "source": [
    "df4 = df3.copy()"
   ]
  },
  {
   "cell_type": "code",
   "execution_count": null,
   "metadata": {
    "ExecuteTime": {
     "end_time": "2020-07-16T13:07:07.519993Z",
     "start_time": "2020-07-16T13:07:07.499995Z"
    }
   },
   "outputs": [],
   "source": [
    "df4.tail()"
   ]
  },
  {
   "cell_type": "markdown",
   "metadata": {},
   "source": [
    "### 4.1.1. Response Variable"
   ]
  },
  {
   "cell_type": "code",
   "execution_count": null,
   "metadata": {
    "ExecuteTime": {
     "end_time": "2020-07-16T13:07:07.879069Z",
     "start_time": "2020-07-16T13:07:07.522024Z"
    }
   },
   "outputs": [],
   "source": [
    "sns.distplot(df4['sex'], kde=False);"
   ]
  },
  {
   "cell_type": "markdown",
   "metadata": {},
   "source": [
    "### 4.1.2. Numerical Variable"
   ]
  },
  {
   "cell_type": "code",
   "execution_count": null,
   "metadata": {
    "ExecuteTime": {
     "end_time": "2020-07-16T13:07:11.911953Z",
     "start_time": "2020-07-16T13:07:07.881039Z"
    }
   },
   "outputs": [],
   "source": [
    "num_attributes.hist( bins=25);"
   ]
  },
  {
   "cell_type": "markdown",
   "metadata": {},
   "source": [
    "## 4.2. Analise Bivariada"
   ]
  },
  {
   "cell_type": "markdown",
   "metadata": {
    "ExecuteTime": {
     "end_time": "2020-07-15T23:10:59.159963Z",
     "start_time": "2020-07-15T23:10:59.156001Z"
    }
   },
   "source": [
    "### **H1.** Men die more than women from heart attack"
   ]
  },
  {
   "cell_type": "code",
   "execution_count": null,
   "metadata": {
    "ExecuteTime": {
     "end_time": "2020-07-16T13:07:12.276952Z",
     "start_time": "2020-07-16T13:07:11.913963Z"
    }
   },
   "outputs": [],
   "source": [
    "aux1 = df4[(df4['death_event'] == 1)]\n",
    "aux2 = aux1[['sex', 'death_event']].groupby('sex').sum().reset_index()\n",
    "aux3 = df4[(df4['death_event'] == 0)]\n",
    "aux4 = aux3[['sex', 'death_event']].groupby('sex').sum().reset_index()\n",
    "\n",
    "plt.subplot(1,2,1)\n",
    "sns.barplot(x='sex', y='death_event', data=aux2)\n",
    "\n",
    "plt.subplot(1,2,2)\n",
    "sns.barplot(x='sex', y='death_event', data=aux4)"
   ]
  },
  {
   "cell_type": "code",
   "execution_count": null,
   "metadata": {
    "ExecuteTime": {
     "end_time": "2020-07-16T13:09:13.969504Z",
     "start_time": "2020-07-16T13:09:13.955491Z"
    }
   },
   "outputs": [],
   "source": [
    "aux1.head()"
   ]
  },
  {
   "cell_type": "code",
   "execution_count": null,
   "metadata": {
    "ExecuteTime": {
     "end_time": "2020-07-16T13:10:03.253841Z",
     "start_time": "2020-07-16T13:10:03.249823Z"
    }
   },
   "outputs": [],
   "source": [
    "print(len(aux4))\n"
   ]
  },
  {
   "cell_type": "code",
   "execution_count": null,
   "metadata": {
    "ExecuteTime": {
     "end_time": "2020-07-16T13:10:54.449788Z",
     "start_time": "2020-07-16T13:10:54.442820Z"
    }
   },
   "outputs": [],
   "source": [
    "aux4"
   ]
  },
  {
   "cell_type": "code",
   "execution_count": null,
   "metadata": {},
   "outputs": [],
   "source": []
  }
 ],
 "metadata": {
  "kernelspec": {
   "display_name": "Python 3",
   "language": "python",
   "name": "python3"
  },
  "language_info": {
   "codemirror_mode": {
    "name": "ipython",
    "version": 3
   },
   "file_extension": ".py",
   "mimetype": "text/x-python",
   "name": "python",
   "nbconvert_exporter": "python",
   "pygments_lexer": "ipython3",
   "version": "3.8.3"
  },
  "nbTranslate": {
   "displayLangs": [
    "*"
   ],
   "hotkey": "alt-t",
   "langInMainMenu": true,
   "sourceLang": "en",
   "targetLang": "fr",
   "useGoogleTranslate": true
  }
 },
 "nbformat": 4,
 "nbformat_minor": 4
}
