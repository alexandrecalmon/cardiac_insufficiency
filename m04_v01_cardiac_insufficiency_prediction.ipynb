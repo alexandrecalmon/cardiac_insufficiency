{
 "cells": [
  {
   "cell_type": "markdown",
   "metadata": {},
   "source": [
    "# 0.0. Imports"
   ]
  },
  {
   "cell_type": "code",
   "execution_count": 425,
   "metadata": {
    "ExecuteTime": {
     "end_time": "2020-07-17T18:59:38.302726Z",
     "start_time": "2020-07-17T18:59:38.269726Z"
    }
   },
   "outputs": [
    {
     "name": "stdout",
     "output_type": "stream",
     "text": [
      "Populating the interactive namespace from numpy and matplotlib\n"
     ]
    },
    {
     "data": {
      "text/html": [
       "<style>.container { width:100% !important; }</style>"
      ],
      "text/plain": [
       "<IPython.core.display.HTML object>"
      ]
     },
     "metadata": {},
     "output_type": "display_data"
    }
   ],
   "source": [
    "import json\n",
    "import math\n",
    "# import pylab \n",
    "import random\n",
    "import pickle\n",
    "import requests\n",
    "import result\n",
    "import datetime\n",
    "import warnings\n",
    "warnings.filterwarnings( 'ignore')\n",
    "import inflection\n",
    "import numpy as np\n",
    "import pandas as pd \n",
    "import seaborn as sns\n",
    "import xgboost as xgb\n",
    "                \n",
    "\n",
    "from scipy                 import stats  as ss\n",
    "from sklearn.metrics       import mean_absolute_error, mean_squared_error\n",
    "from sklearn.ensemble      import RandomForestRegressor\n",
    "from sklearn.linear_model  import LinearRegression\n",
    "from sklearn.linear_model  import Lasso\n",
    "from sklearn.preprocessing import MinMaxScaler, LabelEncoder, RobustScaler\n",
    "from matplotlib.ticker     import PercentFormatter\n",
    "\n",
    "\n",
    "from flask                         import Flask, request, Response\n",
    "from boruta                        import BorutaPy\n",
    "from matplotlib                    import pyplot as plt\n",
    "from matplotlib                    import gridspec\n",
    "from IPython.display               import Image\n",
    "from IPython.core.display          import HTML\n",
    "from IPython.core.interactiveshell import InteractiveShell\n",
    "\n",
    "%pylab inline\n",
    "%matplotlib inline\n",
    "\n",
    "\n",
    "plt.style.use( 'bmh' )\n",
    "plt.rcParams['figure.figsize'] = [20, 8]\n",
    "plt.rcParams['font.size'] = 24\n",
    "\n",
    "display( HTML( '<style>.container { width:100% !important; }</style>') )\n",
    "pd.options.display.max_columns = None\n",
    "pd.options.display.max_rows = None\n",
    "pd.set_option( 'display.expand_frame_repr', False )\n",
    "\n",
    "sns.set();"
   ]
  },
  {
   "cell_type": "markdown",
   "metadata": {
    "ExecuteTime": {
     "end_time": "2020-07-15T21:47:53.543342Z",
     "start_time": "2020-07-15T21:47:53.539327Z"
    },
    "heading_collapsed": true
   },
   "source": [
    "## 0.1 Helper Functions"
   ]
  },
  {
   "cell_type": "code",
   "execution_count": null,
   "metadata": {
    "hidden": true
   },
   "outputs": [],
   "source": []
  },
  {
   "cell_type": "markdown",
   "metadata": {
    "heading_collapsed": true
   },
   "source": [
    "## 0.2. Loading Data"
   ]
  },
  {
   "cell_type": "code",
   "execution_count": 2,
   "metadata": {
    "ExecuteTime": {
     "end_time": "2020-07-17T11:06:00.034858Z",
     "start_time": "2020-07-17T11:06:00.004858Z"
    },
    "hidden": true
   },
   "outputs": [],
   "source": [
    "df_raw = pd.read_csv('data/heart_failure_clinical_records_dataset.csv')"
   ]
  },
  {
   "cell_type": "markdown",
   "metadata": {
    "heading_collapsed": true
   },
   "source": [
    "## Attribute Information:\n",
    "\n",
    "Thirteen (13) clinical features:\n",
    "\n",
    "- **age**: age of the patient (years)\n",
    "- **anaemia**: decrease of red blood cells or hemoglobin (boolean)\n",
    "- **high blood pressure**: if the patient has hypertension (boolean)\n",
    "- **creatinine phosphokinase (CPK)**: level of the CPK enzyme in the blood (mcg/L)\n",
    "- **diabetes**: if the patient has diabetes (boolean)\n",
    "- **ejection fraction**: percentage of blood leaving the heart at each contraction (percentage)\n",
    "- **platelets**: platelets in the blood (kiloplatelets/mL)\n",
    "- **sex**: woman or man (binary)\n",
    "- **serum creatinine**: level of serum creatinine in the blood (mg/dL)\n",
    "- **serum sodium**: level of serum sodium in the blood (mEq/L)\n",
    "- **smoking**: if the patient smokes or not (boolean)\n",
    "- **time**: follow-up period (days)\n",
    "- **[target] death event**: if the patient deceased during the follow-up period (boolean)"
   ]
  },
  {
   "cell_type": "code",
   "execution_count": 3,
   "metadata": {
    "ExecuteTime": {
     "end_time": "2020-07-17T11:06:00.114378Z",
     "start_time": "2020-07-17T11:06:00.036858Z"
    },
    "hidden": true
   },
   "outputs": [
    {
     "data": {
      "text/html": [
       "<div>\n",
       "<style scoped>\n",
       "    .dataframe tbody tr th:only-of-type {\n",
       "        vertical-align: middle;\n",
       "    }\n",
       "\n",
       "    .dataframe tbody tr th {\n",
       "        vertical-align: top;\n",
       "    }\n",
       "\n",
       "    .dataframe thead th {\n",
       "        text-align: right;\n",
       "    }\n",
       "</style>\n",
       "<table border=\"1\" class=\"dataframe\">\n",
       "  <thead>\n",
       "    <tr style=\"text-align: right;\">\n",
       "      <th></th>\n",
       "      <th>age</th>\n",
       "      <th>anaemia</th>\n",
       "      <th>creatinine_phosphokinase</th>\n",
       "      <th>diabetes</th>\n",
       "      <th>ejection_fraction</th>\n",
       "      <th>high_blood_pressure</th>\n",
       "      <th>platelets</th>\n",
       "      <th>serum_creatinine</th>\n",
       "      <th>serum_sodium</th>\n",
       "      <th>sex</th>\n",
       "      <th>smoking</th>\n",
       "      <th>time</th>\n",
       "      <th>DEATH_EVENT</th>\n",
       "    </tr>\n",
       "  </thead>\n",
       "  <tbody>\n",
       "    <tr>\n",
       "      <th>132</th>\n",
       "      <td>46.0</td>\n",
       "      <td>0</td>\n",
       "      <td>719</td>\n",
       "      <td>0</td>\n",
       "      <td>40</td>\n",
       "      <td>1</td>\n",
       "      <td>263358.03</td>\n",
       "      <td>1.18</td>\n",
       "      <td>137</td>\n",
       "      <td>0</td>\n",
       "      <td>0</td>\n",
       "      <td>107</td>\n",
       "      <td>0</td>\n",
       "    </tr>\n",
       "    <tr>\n",
       "      <th>90</th>\n",
       "      <td>70.0</td>\n",
       "      <td>0</td>\n",
       "      <td>66</td>\n",
       "      <td>1</td>\n",
       "      <td>45</td>\n",
       "      <td>0</td>\n",
       "      <td>249000.00</td>\n",
       "      <td>0.80</td>\n",
       "      <td>136</td>\n",
       "      <td>1</td>\n",
       "      <td>1</td>\n",
       "      <td>80</td>\n",
       "      <td>0</td>\n",
       "    </tr>\n",
       "    <tr>\n",
       "      <th>42</th>\n",
       "      <td>70.0</td>\n",
       "      <td>0</td>\n",
       "      <td>571</td>\n",
       "      <td>1</td>\n",
       "      <td>45</td>\n",
       "      <td>1</td>\n",
       "      <td>185000.00</td>\n",
       "      <td>1.20</td>\n",
       "      <td>139</td>\n",
       "      <td>1</td>\n",
       "      <td>1</td>\n",
       "      <td>33</td>\n",
       "      <td>1</td>\n",
       "    </tr>\n",
       "    <tr>\n",
       "      <th>36</th>\n",
       "      <td>90.0</td>\n",
       "      <td>1</td>\n",
       "      <td>60</td>\n",
       "      <td>1</td>\n",
       "      <td>50</td>\n",
       "      <td>0</td>\n",
       "      <td>226000.00</td>\n",
       "      <td>1.00</td>\n",
       "      <td>134</td>\n",
       "      <td>1</td>\n",
       "      <td>0</td>\n",
       "      <td>30</td>\n",
       "      <td>1</td>\n",
       "    </tr>\n",
       "    <tr>\n",
       "      <th>147</th>\n",
       "      <td>64.0</td>\n",
       "      <td>0</td>\n",
       "      <td>1610</td>\n",
       "      <td>0</td>\n",
       "      <td>60</td>\n",
       "      <td>0</td>\n",
       "      <td>242000.00</td>\n",
       "      <td>1.00</td>\n",
       "      <td>137</td>\n",
       "      <td>1</td>\n",
       "      <td>0</td>\n",
       "      <td>113</td>\n",
       "      <td>0</td>\n",
       "    </tr>\n",
       "  </tbody>\n",
       "</table>\n",
       "</div>"
      ],
      "text/plain": [
       "      age  anaemia  creatinine_phosphokinase  diabetes  ejection_fraction  high_blood_pressure  platelets  serum_creatinine  serum_sodium  sex  smoking  time  DEATH_EVENT\n",
       "132  46.0        0                       719         0                 40                    1  263358.03              1.18           137    0        0   107            0\n",
       "90   70.0        0                        66         1                 45                    0  249000.00              0.80           136    1        1    80            0\n",
       "42   70.0        0                       571         1                 45                    1  185000.00              1.20           139    1        1    33            1\n",
       "36   90.0        1                        60         1                 50                    0  226000.00              1.00           134    1        0    30            1\n",
       "147  64.0        0                      1610         0                 60                    0  242000.00              1.00           137    1        0   113            0"
      ]
     },
     "execution_count": 3,
     "metadata": {},
     "output_type": "execute_result"
    }
   ],
   "source": [
    "df_raw.sample(5)"
   ]
  },
  {
   "cell_type": "markdown",
   "metadata": {
    "heading_collapsed": true
   },
   "source": [
    "# 1.0. STEP 01 - DESCRIPTION OF DATA"
   ]
  },
  {
   "cell_type": "code",
   "execution_count": 4,
   "metadata": {
    "ExecuteTime": {
     "end_time": "2020-07-17T11:06:00.162378Z",
     "start_time": "2020-07-17T11:06:00.116379Z"
    },
    "hidden": true
   },
   "outputs": [],
   "source": [
    "df1 = df_raw.copy()"
   ]
  },
  {
   "cell_type": "markdown",
   "metadata": {
    "heading_collapsed": true,
    "hidden": true
   },
   "source": [
    "## 1.1. Rename Columns"
   ]
  },
  {
   "cell_type": "code",
   "execution_count": 5,
   "metadata": {
    "ExecuteTime": {
     "end_time": "2020-07-17T11:06:00.226378Z",
     "start_time": "2020-07-17T11:06:00.163378Z"
    },
    "hidden": true
   },
   "outputs": [],
   "source": [
    "# rename columns so they are all tiny\n",
    "cols_old = ['age', 'anaemia','creatinine_phosphokinase', 'diabetes', 'ejection_fraction', 'high_blood_pressure', 'platelets', 'serum_creatinine','serum_sodium', 'sex', 'smoking', 'time', 'DEATH_EVENT']\n",
    "\n",
    "snakecase = lambda x: inflection.underscore(x)\n",
    "\n",
    "cols_new = list(map(snakecase, cols_old))\n",
    "\n",
    "df1.columns = cols_new"
   ]
  },
  {
   "cell_type": "code",
   "execution_count": 6,
   "metadata": {
    "ExecuteTime": {
     "end_time": "2020-07-17T11:06:00.304091Z",
     "start_time": "2020-07-17T11:06:00.227378Z"
    },
    "hidden": true
   },
   "outputs": [
    {
     "data": {
      "text/html": [
       "<div>\n",
       "<style scoped>\n",
       "    .dataframe tbody tr th:only-of-type {\n",
       "        vertical-align: middle;\n",
       "    }\n",
       "\n",
       "    .dataframe tbody tr th {\n",
       "        vertical-align: top;\n",
       "    }\n",
       "\n",
       "    .dataframe thead th {\n",
       "        text-align: right;\n",
       "    }\n",
       "</style>\n",
       "<table border=\"1\" class=\"dataframe\">\n",
       "  <thead>\n",
       "    <tr style=\"text-align: right;\">\n",
       "      <th></th>\n",
       "      <th>age</th>\n",
       "      <th>anaemia</th>\n",
       "      <th>creatinine_phosphokinase</th>\n",
       "      <th>diabetes</th>\n",
       "      <th>ejection_fraction</th>\n",
       "      <th>high_blood_pressure</th>\n",
       "      <th>platelets</th>\n",
       "      <th>serum_creatinine</th>\n",
       "      <th>serum_sodium</th>\n",
       "      <th>sex</th>\n",
       "      <th>smoking</th>\n",
       "      <th>time</th>\n",
       "      <th>death_event</th>\n",
       "    </tr>\n",
       "  </thead>\n",
       "  <tbody>\n",
       "    <tr>\n",
       "      <th>155</th>\n",
       "      <td>60.0</td>\n",
       "      <td>1</td>\n",
       "      <td>231</td>\n",
       "      <td>1</td>\n",
       "      <td>25</td>\n",
       "      <td>0</td>\n",
       "      <td>194000.0</td>\n",
       "      <td>1.7</td>\n",
       "      <td>140</td>\n",
       "      <td>1</td>\n",
       "      <td>0</td>\n",
       "      <td>120</td>\n",
       "      <td>0</td>\n",
       "    </tr>\n",
       "    <tr>\n",
       "      <th>41</th>\n",
       "      <td>50.0</td>\n",
       "      <td>0</td>\n",
       "      <td>124</td>\n",
       "      <td>1</td>\n",
       "      <td>30</td>\n",
       "      <td>1</td>\n",
       "      <td>153000.0</td>\n",
       "      <td>1.2</td>\n",
       "      <td>136</td>\n",
       "      <td>0</td>\n",
       "      <td>1</td>\n",
       "      <td>32</td>\n",
       "      <td>1</td>\n",
       "    </tr>\n",
       "    <tr>\n",
       "      <th>154</th>\n",
       "      <td>65.0</td>\n",
       "      <td>1</td>\n",
       "      <td>335</td>\n",
       "      <td>0</td>\n",
       "      <td>35</td>\n",
       "      <td>1</td>\n",
       "      <td>235000.0</td>\n",
       "      <td>0.8</td>\n",
       "      <td>136</td>\n",
       "      <td>0</td>\n",
       "      <td>0</td>\n",
       "      <td>120</td>\n",
       "      <td>0</td>\n",
       "    </tr>\n",
       "    <tr>\n",
       "      <th>217</th>\n",
       "      <td>54.0</td>\n",
       "      <td>1</td>\n",
       "      <td>427</td>\n",
       "      <td>0</td>\n",
       "      <td>70</td>\n",
       "      <td>1</td>\n",
       "      <td>151000.0</td>\n",
       "      <td>9.0</td>\n",
       "      <td>137</td>\n",
       "      <td>0</td>\n",
       "      <td>0</td>\n",
       "      <td>196</td>\n",
       "      <td>1</td>\n",
       "    </tr>\n",
       "    <tr>\n",
       "      <th>233</th>\n",
       "      <td>53.0</td>\n",
       "      <td>1</td>\n",
       "      <td>707</td>\n",
       "      <td>0</td>\n",
       "      <td>38</td>\n",
       "      <td>0</td>\n",
       "      <td>330000.0</td>\n",
       "      <td>1.4</td>\n",
       "      <td>137</td>\n",
       "      <td>1</td>\n",
       "      <td>1</td>\n",
       "      <td>209</td>\n",
       "      <td>0</td>\n",
       "    </tr>\n",
       "  </tbody>\n",
       "</table>\n",
       "</div>"
      ],
      "text/plain": [
       "      age  anaemia  creatinine_phosphokinase  diabetes  ejection_fraction  high_blood_pressure  platelets  serum_creatinine  serum_sodium  sex  smoking  time  death_event\n",
       "155  60.0        1                       231         1                 25                    0   194000.0               1.7           140    1        0   120            0\n",
       "41   50.0        0                       124         1                 30                    1   153000.0               1.2           136    0        1    32            1\n",
       "154  65.0        1                       335         0                 35                    1   235000.0               0.8           136    0        0   120            0\n",
       "217  54.0        1                       427         0                 70                    1   151000.0               9.0           137    0        0   196            1\n",
       "233  53.0        1                       707         0                 38                    0   330000.0               1.4           137    1        1   209            0"
      ]
     },
     "execution_count": 6,
     "metadata": {},
     "output_type": "execute_result"
    }
   ],
   "source": [
    "df1.sample(5)"
   ]
  },
  {
   "cell_type": "markdown",
   "metadata": {
    "heading_collapsed": true,
    "hidden": true
   },
   "source": [
    "## 1.2. Data Dimensions"
   ]
  },
  {
   "cell_type": "code",
   "execution_count": 7,
   "metadata": {
    "ExecuteTime": {
     "end_time": "2020-07-17T11:06:00.367616Z",
     "start_time": "2020-07-17T11:06:00.306092Z"
    },
    "hidden": true
   },
   "outputs": [
    {
     "name": "stdout",
     "output_type": "stream",
     "text": [
      "Number of Rows : 299\n",
      "Number of Cols : 13\n"
     ]
    }
   ],
   "source": [
    "print('Number of Rows : {}'.format(df1.shape[0]))\n",
    "print('Number of Cols : {}'.format(df1.shape[1]))"
   ]
  },
  {
   "cell_type": "markdown",
   "metadata": {
    "heading_collapsed": true,
    "hidden": true
   },
   "source": [
    "## 1.3. Data Types"
   ]
  },
  {
   "cell_type": "code",
   "execution_count": 8,
   "metadata": {
    "ExecuteTime": {
     "end_time": "2020-07-17T11:06:00.431618Z",
     "start_time": "2020-07-17T11:06:00.369616Z"
    },
    "hidden": true
   },
   "outputs": [
    {
     "data": {
      "text/plain": [
       "age                         float64\n",
       "anaemia                       int64\n",
       "creatinine_phosphokinase      int64\n",
       "diabetes                      int64\n",
       "ejection_fraction             int64\n",
       "high_blood_pressure           int64\n",
       "platelets                   float64\n",
       "serum_creatinine            float64\n",
       "serum_sodium                  int64\n",
       "sex                           int64\n",
       "smoking                       int64\n",
       "time                          int64\n",
       "death_event                   int64\n",
       "dtype: object"
      ]
     },
     "execution_count": 8,
     "metadata": {},
     "output_type": "execute_result"
    }
   ],
   "source": [
    "df1.dtypes"
   ]
  },
  {
   "cell_type": "markdown",
   "metadata": {
    "heading_collapsed": true,
    "hidden": true
   },
   "source": [
    "## 1.4. Check NA"
   ]
  },
  {
   "cell_type": "code",
   "execution_count": 9,
   "metadata": {
    "ExecuteTime": {
     "end_time": "2020-07-17T11:06:00.495614Z",
     "start_time": "2020-07-17T11:06:00.433618Z"
    },
    "hidden": true
   },
   "outputs": [
    {
     "data": {
      "text/plain": [
       "age                         0\n",
       "anaemia                     0\n",
       "creatinine_phosphokinase    0\n",
       "diabetes                    0\n",
       "ejection_fraction           0\n",
       "high_blood_pressure         0\n",
       "platelets                   0\n",
       "serum_creatinine            0\n",
       "serum_sodium                0\n",
       "sex                         0\n",
       "smoking                     0\n",
       "time                        0\n",
       "death_event                 0\n",
       "dtype: int64"
      ]
     },
     "execution_count": 9,
     "metadata": {},
     "output_type": "execute_result"
    }
   ],
   "source": [
    "df1.isna().sum()"
   ]
  },
  {
   "cell_type": "markdown",
   "metadata": {
    "heading_collapsed": true,
    "hidden": true
   },
   "source": [
    "## 1.5. Fillout NA"
   ]
  },
  {
   "cell_type": "code",
   "execution_count": null,
   "metadata": {
    "hidden": true
   },
   "outputs": [],
   "source": []
  },
  {
   "cell_type": "markdown",
   "metadata": {
    "heading_collapsed": true,
    "hidden": true
   },
   "source": [
    "## 1.6. Change Data Types"
   ]
  },
  {
   "cell_type": "code",
   "execution_count": null,
   "metadata": {
    "hidden": true
   },
   "outputs": [],
   "source": []
  },
  {
   "cell_type": "markdown",
   "metadata": {
    "heading_collapsed": true,
    "hidden": true
   },
   "source": [
    "## 1.7. Descriptive Statistical"
   ]
  },
  {
   "cell_type": "code",
   "execution_count": 10,
   "metadata": {
    "ExecuteTime": {
     "end_time": "2020-07-17T11:06:00.559615Z",
     "start_time": "2020-07-17T11:06:00.496615Z"
    },
    "hidden": true
   },
   "outputs": [],
   "source": [
    "num_attributes = df1.select_dtypes( include=['int64', 'float64'] )"
   ]
  },
  {
   "cell_type": "markdown",
   "metadata": {
    "hidden": true
   },
   "source": [
    "### 1.7.1 Numerical Attributes"
   ]
  },
  {
   "cell_type": "code",
   "execution_count": 421,
   "metadata": {
    "ExecuteTime": {
     "end_time": "2020-07-17T18:58:50.094833Z",
     "start_time": "2020-07-17T18:58:50.033791Z"
    },
    "hidden": true
   },
   "outputs": [
    {
     "data": {
      "text/html": [
       "<div>\n",
       "<style scoped>\n",
       "    .dataframe tbody tr th:only-of-type {\n",
       "        vertical-align: middle;\n",
       "    }\n",
       "\n",
       "    .dataframe tbody tr th {\n",
       "        vertical-align: top;\n",
       "    }\n",
       "\n",
       "    .dataframe thead th {\n",
       "        text-align: right;\n",
       "    }\n",
       "</style>\n",
       "<table border=\"1\" class=\"dataframe\">\n",
       "  <thead>\n",
       "    <tr style=\"text-align: right;\">\n",
       "      <th></th>\n",
       "      <th>attributes</th>\n",
       "      <th>min</th>\n",
       "      <th>max</th>\n",
       "      <th>range</th>\n",
       "      <th>mean</th>\n",
       "      <th>median</th>\n",
       "      <th>std</th>\n",
       "      <th>skew</th>\n",
       "      <th>kurtosis</th>\n",
       "    </tr>\n",
       "  </thead>\n",
       "  <tbody>\n",
       "    <tr>\n",
       "      <th>0</th>\n",
       "      <td>age</td>\n",
       "      <td>40.0</td>\n",
       "      <td>95.0</td>\n",
       "      <td>-40.0</td>\n",
       "      <td>60.833893</td>\n",
       "      <td>60.0</td>\n",
       "      <td>11.874901</td>\n",
       "      <td>0.423062</td>\n",
       "      <td>-0.184871</td>\n",
       "    </tr>\n",
       "    <tr>\n",
       "      <th>1</th>\n",
       "      <td>anaemia</td>\n",
       "      <td>0.0</td>\n",
       "      <td>1.0</td>\n",
       "      <td>0.0</td>\n",
       "      <td>0.431438</td>\n",
       "      <td>0.0</td>\n",
       "      <td>0.495277</td>\n",
       "      <td>0.278261</td>\n",
       "      <td>-1.935563</td>\n",
       "    </tr>\n",
       "    <tr>\n",
       "      <th>2</th>\n",
       "      <td>creatinine_phosphokinase</td>\n",
       "      <td>23.0</td>\n",
       "      <td>7861.0</td>\n",
       "      <td>-23.0</td>\n",
       "      <td>581.839465</td>\n",
       "      <td>250.0</td>\n",
       "      <td>968.663967</td>\n",
       "      <td>4.463110</td>\n",
       "      <td>25.149046</td>\n",
       "    </tr>\n",
       "    <tr>\n",
       "      <th>3</th>\n",
       "      <td>diabetes</td>\n",
       "      <td>0.0</td>\n",
       "      <td>1.0</td>\n",
       "      <td>0.0</td>\n",
       "      <td>0.418060</td>\n",
       "      <td>0.0</td>\n",
       "      <td>0.493240</td>\n",
       "      <td>0.333929</td>\n",
       "      <td>-1.901254</td>\n",
       "    </tr>\n",
       "    <tr>\n",
       "      <th>4</th>\n",
       "      <td>ejection_fraction</td>\n",
       "      <td>14.0</td>\n",
       "      <td>80.0</td>\n",
       "      <td>-14.0</td>\n",
       "      <td>38.083612</td>\n",
       "      <td>38.0</td>\n",
       "      <td>11.815033</td>\n",
       "      <td>0.555383</td>\n",
       "      <td>0.041409</td>\n",
       "    </tr>\n",
       "    <tr>\n",
       "      <th>5</th>\n",
       "      <td>high_blood_pressure</td>\n",
       "      <td>0.0</td>\n",
       "      <td>1.0</td>\n",
       "      <td>0.0</td>\n",
       "      <td>0.351171</td>\n",
       "      <td>0.0</td>\n",
       "      <td>0.477336</td>\n",
       "      <td>0.626732</td>\n",
       "      <td>-1.618076</td>\n",
       "    </tr>\n",
       "    <tr>\n",
       "      <th>6</th>\n",
       "      <td>platelets</td>\n",
       "      <td>25100.0</td>\n",
       "      <td>850000.0</td>\n",
       "      <td>-25100.0</td>\n",
       "      <td>263358.029264</td>\n",
       "      <td>262000.0</td>\n",
       "      <td>97640.547655</td>\n",
       "      <td>1.462321</td>\n",
       "      <td>6.209255</td>\n",
       "    </tr>\n",
       "    <tr>\n",
       "      <th>7</th>\n",
       "      <td>serum_creatinine</td>\n",
       "      <td>0.5</td>\n",
       "      <td>9.4</td>\n",
       "      <td>-0.5</td>\n",
       "      <td>1.393880</td>\n",
       "      <td>1.1</td>\n",
       "      <td>1.032779</td>\n",
       "      <td>4.455996</td>\n",
       "      <td>25.828239</td>\n",
       "    </tr>\n",
       "    <tr>\n",
       "      <th>8</th>\n",
       "      <td>serum_sodium</td>\n",
       "      <td>113.0</td>\n",
       "      <td>148.0</td>\n",
       "      <td>-113.0</td>\n",
       "      <td>136.625418</td>\n",
       "      <td>137.0</td>\n",
       "      <td>4.405092</td>\n",
       "      <td>-1.048136</td>\n",
       "      <td>4.119712</td>\n",
       "    </tr>\n",
       "    <tr>\n",
       "      <th>9</th>\n",
       "      <td>sex</td>\n",
       "      <td>0.0</td>\n",
       "      <td>1.0</td>\n",
       "      <td>0.0</td>\n",
       "      <td>0.648829</td>\n",
       "      <td>1.0</td>\n",
       "      <td>0.477336</td>\n",
       "      <td>-0.626732</td>\n",
       "      <td>-1.618076</td>\n",
       "    </tr>\n",
       "    <tr>\n",
       "      <th>10</th>\n",
       "      <td>smoking</td>\n",
       "      <td>0.0</td>\n",
       "      <td>1.0</td>\n",
       "      <td>0.0</td>\n",
       "      <td>0.321070</td>\n",
       "      <td>0.0</td>\n",
       "      <td>0.466888</td>\n",
       "      <td>0.770349</td>\n",
       "      <td>-1.416080</td>\n",
       "    </tr>\n",
       "    <tr>\n",
       "      <th>11</th>\n",
       "      <td>time</td>\n",
       "      <td>4.0</td>\n",
       "      <td>285.0</td>\n",
       "      <td>-4.0</td>\n",
       "      <td>130.260870</td>\n",
       "      <td>115.0</td>\n",
       "      <td>77.484310</td>\n",
       "      <td>0.127803</td>\n",
       "      <td>-1.212048</td>\n",
       "    </tr>\n",
       "    <tr>\n",
       "      <th>12</th>\n",
       "      <td>death_event</td>\n",
       "      <td>0.0</td>\n",
       "      <td>1.0</td>\n",
       "      <td>0.0</td>\n",
       "      <td>0.321070</td>\n",
       "      <td>0.0</td>\n",
       "      <td>0.466888</td>\n",
       "      <td>0.770349</td>\n",
       "      <td>-1.416080</td>\n",
       "    </tr>\n",
       "  </tbody>\n",
       "</table>\n",
       "</div>"
      ],
      "text/plain": [
       "                  attributes      min       max    range           mean    median           std      skew   kurtosis\n",
       "0                        age     40.0      95.0    -40.0      60.833893      60.0     11.874901  0.423062  -0.184871\n",
       "1                    anaemia      0.0       1.0      0.0       0.431438       0.0      0.495277  0.278261  -1.935563\n",
       "2   creatinine_phosphokinase     23.0    7861.0    -23.0     581.839465     250.0    968.663967  4.463110  25.149046\n",
       "3                   diabetes      0.0       1.0      0.0       0.418060       0.0      0.493240  0.333929  -1.901254\n",
       "4          ejection_fraction     14.0      80.0    -14.0      38.083612      38.0     11.815033  0.555383   0.041409\n",
       "5        high_blood_pressure      0.0       1.0      0.0       0.351171       0.0      0.477336  0.626732  -1.618076\n",
       "6                  platelets  25100.0  850000.0 -25100.0  263358.029264  262000.0  97640.547655  1.462321   6.209255\n",
       "7           serum_creatinine      0.5       9.4     -0.5       1.393880       1.1      1.032779  4.455996  25.828239\n",
       "8               serum_sodium    113.0     148.0   -113.0     136.625418     137.0      4.405092 -1.048136   4.119712\n",
       "9                        sex      0.0       1.0      0.0       0.648829       1.0      0.477336 -0.626732  -1.618076\n",
       "10                   smoking      0.0       1.0      0.0       0.321070       0.0      0.466888  0.770349  -1.416080\n",
       "11                      time      4.0     285.0     -4.0     130.260870     115.0     77.484310  0.127803  -1.212048\n",
       "12               death_event      0.0       1.0      0.0       0.321070       0.0      0.466888  0.770349  -1.416080"
      ]
     },
     "execution_count": 421,
     "metadata": {},
     "output_type": "execute_result"
    }
   ],
   "source": [
    "# Central Tendency - mean, median\n",
    "ct1 = pd.DataFrame( num_attributes.apply( np.mean ) ).T\n",
    "ct2 = pd.DataFrame( num_attributes.apply( np.median ) ).T\n",
    "\n",
    "# Dispersion - std, min, max, range, skew, kurtosis\n",
    "d1 = pd.DataFrame( num_attributes.apply( np.std ) ).T\n",
    "d2 = pd.DataFrame( num_attributes.apply( min ) ).T\n",
    "d3 = pd.DataFrame( num_attributes.apply( max ) ).T\n",
    "d4 = pd.DataFrame( num_attributes.apply( lambda x: x.max() - x.max() - x.min() ) ).T\n",
    "d5 = pd.DataFrame( num_attributes.apply( lambda x: x.skew() ) ).T\n",
    "d6 = pd.DataFrame( num_attributes.apply( lambda x: x.kurtosis() ) ).T\n",
    "\n",
    "# concatenate\n",
    "m = pd.concat( [d2, d3, d4, ct1, ct2, d1, d5, d6] ).T.reset_index()\n",
    "m.columns = ( ['attributes','min','max','range','mean','median','std','skew','kurtosis'] )\n",
    "m\n"
   ]
  },
  {
   "cell_type": "code",
   "execution_count": 422,
   "metadata": {
    "ExecuteTime": {
     "end_time": "2020-07-17T18:58:52.365236Z",
     "start_time": "2020-07-17T18:58:52.028221Z"
    },
    "hidden": true
   },
   "outputs": [
    {
     "data": {
      "image/png": "[encoded data removed]",
      "text/plain": [
       "<Figure size 1656x720 with 1 Axes>"
      ]
     },
     "metadata": {},
     "output_type": "display_data"
    }
   ],
   "source": [
    "sns.distplot(df1['serum_sodium']);"
   ]
  },
  {
   "cell_type": "markdown",
   "metadata": {
    "heading_collapsed": true,
    "hidden": true
   },
   "source": [
    "### 1.7.2. Categorical Attributes"
   ]
  },
  {
   "cell_type": "code",
   "execution_count": null,
   "metadata": {
    "hidden": true
   },
   "outputs": [],
   "source": []
  },
  {
   "cell_type": "markdown",
   "metadata": {},
   "source": [
    "# 2.0. STEP 02 - FEATURE ENGINNERING"
   ]
  },
  {
   "cell_type": "code",
   "execution_count": 13,
   "metadata": {
    "ExecuteTime": {
     "end_time": "2020-07-17T11:06:01.081664Z",
     "start_time": "2020-07-17T11:06:01.066652Z"
    }
   },
   "outputs": [],
   "source": [
    "df2 = df1.copy()"
   ]
  },
  {
   "cell_type": "markdown",
   "metadata": {
    "heading_collapsed": true
   },
   "source": [
    "## 2.1. Hypothesis Mind Map"
   ]
  },
  {
   "cell_type": "code",
   "execution_count": 14,
   "metadata": {
    "ExecuteTime": {
     "end_time": "2020-07-17T11:06:01.145667Z",
     "start_time": "2020-07-17T11:06:01.082664Z"
    },
    "hidden": true
   },
   "outputs": [
    {
     "ename": "FileNotFoundError",
     "evalue": "No such file or directory: 'img/MindMapHypothesis.png'",
     "output_type": "error",
     "traceback": [
      "\u001b[1;31m---------------------------------------------------------------------------\u001b[0m",
      "\u001b[1;31mTypeError\u001b[0m                                 Traceback (most recent call last)",
      "\u001b[1;32m~\\anaconda3\\envs\\CardiacInsufficiency\\lib\\site-packages\\IPython\\core\\display.py\u001b[0m in \u001b[0;36m_data_and_metadata\u001b[1;34m(self, always_both)\u001b[0m\n\u001b[0;32m   1292\u001b[0m         \u001b[1;32mtry\u001b[0m\u001b[1;33m:\u001b[0m\u001b[1;33m\u001b[0m\u001b[1;33m\u001b[0m\u001b[0m\n\u001b[1;32m-> 1293\u001b[1;33m             \u001b[0mb64_data\u001b[0m \u001b[1;33m=\u001b[0m \u001b[0mb2a_base64\u001b[0m\u001b[1;33m(\u001b[0m\u001b[0mself\u001b[0m\u001b[1;33m.\u001b[0m\u001b[0mdata\u001b[0m\u001b[1;33m)\u001b[0m\u001b[1;33m.\u001b[0m\u001b[0mdecode\u001b[0m\u001b[1;33m(\u001b[0m\u001b[1;34m'ascii'\u001b[0m\u001b[1;33m)\u001b[0m\u001b[1;33m\u001b[0m\u001b[1;33m\u001b[0m\u001b[0m\n\u001b[0m\u001b[0;32m   1294\u001b[0m         \u001b[1;32mexcept\u001b[0m \u001b[0mTypeError\u001b[0m\u001b[1;33m:\u001b[0m\u001b[1;33m\u001b[0m\u001b[1;33m\u001b[0m\u001b[0m\n",
      "\u001b[1;31mTypeError\u001b[0m: a bytes-like object is required, not 'str'",
      "\nDuring handling of the above exception, another exception occurred:\n",
      "\u001b[1;31mFileNotFoundError\u001b[0m                         Traceback (most recent call last)",
      "\u001b[1;32m~\\anaconda3\\envs\\CardiacInsufficiency\\lib\\site-packages\\IPython\\core\\formatters.py\u001b[0m in \u001b[0;36m__call__\u001b[1;34m(self, obj, include, exclude)\u001b[0m\n\u001b[0;32m    968\u001b[0m \u001b[1;33m\u001b[0m\u001b[0m\n\u001b[0;32m    969\u001b[0m             \u001b[1;32mif\u001b[0m \u001b[0mmethod\u001b[0m \u001b[1;32mis\u001b[0m \u001b[1;32mnot\u001b[0m \u001b[1;32mNone\u001b[0m\u001b[1;33m:\u001b[0m\u001b[1;33m\u001b[0m\u001b[1;33m\u001b[0m\u001b[0m\n\u001b[1;32m--> 970\u001b[1;33m                 \u001b[1;32mreturn\u001b[0m \u001b[0mmethod\u001b[0m\u001b[1;33m(\u001b[0m\u001b[0minclude\u001b[0m\u001b[1;33m=\u001b[0m\u001b[0minclude\u001b[0m\u001b[1;33m,\u001b[0m \u001b[0mexclude\u001b[0m\u001b[1;33m=\u001b[0m\u001b[0mexclude\u001b[0m\u001b[1;33m)\u001b[0m\u001b[1;33m\u001b[0m\u001b[1;33m\u001b[0m\u001b[0m\n\u001b[0m\u001b[0;32m    971\u001b[0m             \u001b[1;32mreturn\u001b[0m \u001b[1;32mNone\u001b[0m\u001b[1;33m\u001b[0m\u001b[1;33m\u001b[0m\u001b[0m\n\u001b[0;32m    972\u001b[0m         \u001b[1;32melse\u001b[0m\u001b[1;33m:\u001b[0m\u001b[1;33m\u001b[0m\u001b[1;33m\u001b[0m\u001b[0m\n",
      "\u001b[1;32m~\\anaconda3\\envs\\CardiacInsufficiency\\lib\\site-packages\\IPython\\core\\display.py\u001b[0m in \u001b[0;36m_repr_mimebundle_\u001b[1;34m(self, include, exclude)\u001b[0m\n\u001b[0;32m   1281\u001b[0m         \u001b[1;32mif\u001b[0m \u001b[0mself\u001b[0m\u001b[1;33m.\u001b[0m\u001b[0membed\u001b[0m\u001b[1;33m:\u001b[0m\u001b[1;33m\u001b[0m\u001b[1;33m\u001b[0m\u001b[0m\n\u001b[0;32m   1282\u001b[0m             \u001b[0mmimetype\u001b[0m \u001b[1;33m=\u001b[0m \u001b[0mself\u001b[0m\u001b[1;33m.\u001b[0m\u001b[0m_mimetype\u001b[0m\u001b[1;33m\u001b[0m\u001b[1;33m\u001b[0m\u001b[0m\n\u001b[1;32m-> 1283\u001b[1;33m             \u001b[0mdata\u001b[0m\u001b[1;33m,\u001b[0m \u001b[0mmetadata\u001b[0m \u001b[1;33m=\u001b[0m \u001b[0mself\u001b[0m\u001b[1;33m.\u001b[0m\u001b[0m_data_and_metadata\u001b[0m\u001b[1;33m(\u001b[0m\u001b[0malways_both\u001b[0m\u001b[1;33m=\u001b[0m\u001b[1;32mTrue\u001b[0m\u001b[1;33m)\u001b[0m\u001b[1;33m\u001b[0m\u001b[1;33m\u001b[0m\u001b[0m\n\u001b[0m\u001b[0;32m   1284\u001b[0m             \u001b[1;32mif\u001b[0m \u001b[0mmetadata\u001b[0m\u001b[1;33m:\u001b[0m\u001b[1;33m\u001b[0m\u001b[1;33m\u001b[0m\u001b[0m\n\u001b[0;32m   1285\u001b[0m                 \u001b[0mmetadata\u001b[0m \u001b[1;33m=\u001b[0m \u001b[1;33m{\u001b[0m\u001b[0mmimetype\u001b[0m\u001b[1;33m:\u001b[0m \u001b[0mmetadata\u001b[0m\u001b[1;33m}\u001b[0m\u001b[1;33m\u001b[0m\u001b[1;33m\u001b[0m\u001b[0m\n",
      "\u001b[1;32m~\\anaconda3\\envs\\CardiacInsufficiency\\lib\\site-packages\\IPython\\core\\display.py\u001b[0m in \u001b[0;36m_data_and_metadata\u001b[1;34m(self, always_both)\u001b[0m\n\u001b[0;32m   1293\u001b[0m             \u001b[0mb64_data\u001b[0m \u001b[1;33m=\u001b[0m \u001b[0mb2a_base64\u001b[0m\u001b[1;33m(\u001b[0m\u001b[0mself\u001b[0m\u001b[1;33m.\u001b[0m\u001b[0mdata\u001b[0m\u001b[1;33m)\u001b[0m\u001b[1;33m.\u001b[0m\u001b[0mdecode\u001b[0m\u001b[1;33m(\u001b[0m\u001b[1;34m'ascii'\u001b[0m\u001b[1;33m)\u001b[0m\u001b[1;33m\u001b[0m\u001b[1;33m\u001b[0m\u001b[0m\n\u001b[0;32m   1294\u001b[0m         \u001b[1;32mexcept\u001b[0m \u001b[0mTypeError\u001b[0m\u001b[1;33m:\u001b[0m\u001b[1;33m\u001b[0m\u001b[1;33m\u001b[0m\u001b[0m\n\u001b[1;32m-> 1295\u001b[1;33m             raise FileNotFoundError(\n\u001b[0m\u001b[0;32m   1296\u001b[0m                 \"No such file or directory: '%s'\" % (self.data))\n\u001b[0;32m   1297\u001b[0m         \u001b[0mmd\u001b[0m \u001b[1;33m=\u001b[0m \u001b[1;33m{\u001b[0m\u001b[1;33m}\u001b[0m\u001b[1;33m\u001b[0m\u001b[1;33m\u001b[0m\u001b[0m\n",
      "\u001b[1;31mFileNotFoundError\u001b[0m: No such file or directory: 'img/MindMapHypothesis.png'"
     ]
    },
    {
     "ename": "FileNotFoundError",
     "evalue": "No such file or directory: 'img/MindMapHypothesis.png'",
     "output_type": "error",
     "traceback": [
      "\u001b[1;31m---------------------------------------------------------------------------\u001b[0m",
      "\u001b[1;31mTypeError\u001b[0m                                 Traceback (most recent call last)",
      "\u001b[1;32m~\\anaconda3\\envs\\CardiacInsufficiency\\lib\\site-packages\\IPython\\core\\display.py\u001b[0m in \u001b[0;36m_data_and_metadata\u001b[1;34m(self, always_both)\u001b[0m\n\u001b[0;32m   1292\u001b[0m         \u001b[1;32mtry\u001b[0m\u001b[1;33m:\u001b[0m\u001b[1;33m\u001b[0m\u001b[1;33m\u001b[0m\u001b[0m\n\u001b[1;32m-> 1293\u001b[1;33m             \u001b[0mb64_data\u001b[0m \u001b[1;33m=\u001b[0m \u001b[0mb2a_base64\u001b[0m\u001b[1;33m(\u001b[0m\u001b[0mself\u001b[0m\u001b[1;33m.\u001b[0m\u001b[0mdata\u001b[0m\u001b[1;33m)\u001b[0m\u001b[1;33m.\u001b[0m\u001b[0mdecode\u001b[0m\u001b[1;33m(\u001b[0m\u001b[1;34m'ascii'\u001b[0m\u001b[1;33m)\u001b[0m\u001b[1;33m\u001b[0m\u001b[1;33m\u001b[0m\u001b[0m\n\u001b[0m\u001b[0;32m   1294\u001b[0m         \u001b[1;32mexcept\u001b[0m \u001b[0mTypeError\u001b[0m\u001b[1;33m:\u001b[0m\u001b[1;33m\u001b[0m\u001b[1;33m\u001b[0m\u001b[0m\n",
      "\u001b[1;31mTypeError\u001b[0m: a bytes-like object is required, not 'str'",
      "\nDuring handling of the above exception, another exception occurred:\n",
      "\u001b[1;31mFileNotFoundError\u001b[0m                         Traceback (most recent call last)",
      "\u001b[1;32m~\\anaconda3\\envs\\CardiacInsufficiency\\lib\\site-packages\\IPython\\core\\formatters.py\u001b[0m in \u001b[0;36m__call__\u001b[1;34m(self, obj)\u001b[0m\n\u001b[0;32m    343\u001b[0m             \u001b[0mmethod\u001b[0m \u001b[1;33m=\u001b[0m \u001b[0mget_real_method\u001b[0m\u001b[1;33m(\u001b[0m\u001b[0mobj\u001b[0m\u001b[1;33m,\u001b[0m \u001b[0mself\u001b[0m\u001b[1;33m.\u001b[0m\u001b[0mprint_method\u001b[0m\u001b[1;33m)\u001b[0m\u001b[1;33m\u001b[0m\u001b[1;33m\u001b[0m\u001b[0m\n\u001b[0;32m    344\u001b[0m             \u001b[1;32mif\u001b[0m \u001b[0mmethod\u001b[0m \u001b[1;32mis\u001b[0m \u001b[1;32mnot\u001b[0m \u001b[1;32mNone\u001b[0m\u001b[1;33m:\u001b[0m\u001b[1;33m\u001b[0m\u001b[1;33m\u001b[0m\u001b[0m\n\u001b[1;32m--> 345\u001b[1;33m                 \u001b[1;32mreturn\u001b[0m \u001b[0mmethod\u001b[0m\u001b[1;33m(\u001b[0m\u001b[1;33m)\u001b[0m\u001b[1;33m\u001b[0m\u001b[1;33m\u001b[0m\u001b[0m\n\u001b[0m\u001b[0;32m    346\u001b[0m             \u001b[1;32mreturn\u001b[0m \u001b[1;32mNone\u001b[0m\u001b[1;33m\u001b[0m\u001b[1;33m\u001b[0m\u001b[0m\n\u001b[0;32m    347\u001b[0m         \u001b[1;32melse\u001b[0m\u001b[1;33m:\u001b[0m\u001b[1;33m\u001b[0m\u001b[1;33m\u001b[0m\u001b[0m\n",
      "\u001b[1;32m~\\anaconda3\\envs\\CardiacInsufficiency\\lib\\site-packages\\IPython\\core\\display.py\u001b[0m in \u001b[0;36m_repr_png_\u001b[1;34m(self)\u001b[0m\n\u001b[0;32m   1311\u001b[0m     \u001b[1;32mdef\u001b[0m \u001b[0m_repr_png_\u001b[0m\u001b[1;33m(\u001b[0m\u001b[0mself\u001b[0m\u001b[1;33m)\u001b[0m\u001b[1;33m:\u001b[0m\u001b[1;33m\u001b[0m\u001b[1;33m\u001b[0m\u001b[0m\n\u001b[0;32m   1312\u001b[0m         \u001b[1;32mif\u001b[0m \u001b[0mself\u001b[0m\u001b[1;33m.\u001b[0m\u001b[0membed\u001b[0m \u001b[1;32mand\u001b[0m \u001b[0mself\u001b[0m\u001b[1;33m.\u001b[0m\u001b[0mformat\u001b[0m \u001b[1;33m==\u001b[0m \u001b[0mself\u001b[0m\u001b[1;33m.\u001b[0m\u001b[0m_FMT_PNG\u001b[0m\u001b[1;33m:\u001b[0m\u001b[1;33m\u001b[0m\u001b[1;33m\u001b[0m\u001b[0m\n\u001b[1;32m-> 1313\u001b[1;33m             \u001b[1;32mreturn\u001b[0m \u001b[0mself\u001b[0m\u001b[1;33m.\u001b[0m\u001b[0m_data_and_metadata\u001b[0m\u001b[1;33m(\u001b[0m\u001b[1;33m)\u001b[0m\u001b[1;33m\u001b[0m\u001b[1;33m\u001b[0m\u001b[0m\n\u001b[0m\u001b[0;32m   1314\u001b[0m \u001b[1;33m\u001b[0m\u001b[0m\n\u001b[0;32m   1315\u001b[0m     \u001b[1;32mdef\u001b[0m \u001b[0m_repr_jpeg_\u001b[0m\u001b[1;33m(\u001b[0m\u001b[0mself\u001b[0m\u001b[1;33m)\u001b[0m\u001b[1;33m:\u001b[0m\u001b[1;33m\u001b[0m\u001b[1;33m\u001b[0m\u001b[0m\n",
      "\u001b[1;32m~\\anaconda3\\envs\\CardiacInsufficiency\\lib\\site-packages\\IPython\\core\\display.py\u001b[0m in \u001b[0;36m_data_and_metadata\u001b[1;34m(self, always_both)\u001b[0m\n\u001b[0;32m   1293\u001b[0m             \u001b[0mb64_data\u001b[0m \u001b[1;33m=\u001b[0m \u001b[0mb2a_base64\u001b[0m\u001b[1;33m(\u001b[0m\u001b[0mself\u001b[0m\u001b[1;33m.\u001b[0m\u001b[0mdata\u001b[0m\u001b[1;33m)\u001b[0m\u001b[1;33m.\u001b[0m\u001b[0mdecode\u001b[0m\u001b[1;33m(\u001b[0m\u001b[1;34m'ascii'\u001b[0m\u001b[1;33m)\u001b[0m\u001b[1;33m\u001b[0m\u001b[1;33m\u001b[0m\u001b[0m\n\u001b[0;32m   1294\u001b[0m         \u001b[1;32mexcept\u001b[0m \u001b[0mTypeError\u001b[0m\u001b[1;33m:\u001b[0m\u001b[1;33m\u001b[0m\u001b[1;33m\u001b[0m\u001b[0m\n\u001b[1;32m-> 1295\u001b[1;33m             raise FileNotFoundError(\n\u001b[0m\u001b[0;32m   1296\u001b[0m                 \"No such file or directory: '%s'\" % (self.data))\n\u001b[0;32m   1297\u001b[0m         \u001b[0mmd\u001b[0m \u001b[1;33m=\u001b[0m \u001b[1;33m{\u001b[0m\u001b[1;33m}\u001b[0m\u001b[1;33m\u001b[0m\u001b[1;33m\u001b[0m\u001b[0m\n",
      "\u001b[1;31mFileNotFoundError\u001b[0m: No such file or directory: 'img/MindMapHypothesis.png'"
     ]
    },
    {
     "data": {
      "text/plain": [
       "<IPython.core.display.Image object>"
      ]
     },
     "execution_count": 14,
     "metadata": {},
     "output_type": "execute_result"
    }
   ],
   "source": [
    "Image('img/MindMapHypothesis.png')"
   ]
  },
  {
   "cell_type": "markdown",
   "metadata": {},
   "source": [
    "## 2.2. Creation of Hypotheses"
   ]
  },
  {
   "cell_type": "markdown",
   "metadata": {
    "heading_collapsed": true
   },
   "source": [
    "### 2.2.1. Sex Hypothesis"
   ]
  },
  {
   "cell_type": "markdown",
   "metadata": {
    "hidden": true
   },
   "source": [
    "**1.** Men are more likely to die from heart disease than women."
   ]
  },
  {
   "cell_type": "markdown",
   "metadata": {
    "heading_collapsed": true
   },
   "source": [
    "### 2.2.2. Smooking Hypothesis"
   ]
  },
  {
   "cell_type": "markdown",
   "metadata": {
    "hidden": true
   },
   "source": [
    "**1.** People who smoke die more from heart failure"
   ]
  },
  {
   "cell_type": "markdown",
   "metadata": {},
   "source": [
    "### 2.2.3. Diabetes Hypothesis"
   ]
  },
  {
   "cell_type": "markdown",
   "metadata": {},
   "source": [
    "**1.** People with Diabetes die more from cardiac insufficiency than people without diabetes."
   ]
  },
  {
   "cell_type": "markdown",
   "metadata": {
    "heading_collapsed": true
   },
   "source": [
    "### 2.2.4. High Blood Pressure Hypothesis"
   ]
  },
  {
   "cell_type": "markdown",
   "metadata": {
    "hidden": true
   },
   "source": [
    "**1.** Women with high blood pressure are more likely to die of a cardiac insufficiency than men."
   ]
  },
  {
   "cell_type": "markdown",
   "metadata": {
    "heading_collapsed": true
   },
   "source": [
    "### 2.2.5. Anaemia Hypothesis"
   ]
  },
  {
   "cell_type": "markdown",
   "metadata": {
    "hidden": true
   },
   "source": [
    "**1.** People with anemia die more from cardiac insufficiency than people who do not have anemia."
   ]
  },
  {
   "cell_type": "markdown",
   "metadata": {
    "heading_collapsed": true
   },
   "source": [
    "## 2.3. Feature Engineering"
   ]
  },
  {
   "cell_type": "code",
   "execution_count": null,
   "metadata": {
    "hidden": true
   },
   "outputs": [],
   "source": []
  },
  {
   "cell_type": "markdown",
   "metadata": {
    "heading_collapsed": true
   },
   "source": [
    "# 3.0. STEP 03 - VARIABLES FILTERING"
   ]
  },
  {
   "cell_type": "code",
   "execution_count": 15,
   "metadata": {
    "ExecuteTime": {
     "end_time": "2020-07-17T11:06:01.193667Z",
     "start_time": "2020-07-17T11:06:01.146664Z"
    },
    "hidden": true
   },
   "outputs": [],
   "source": [
    "df3 = df2.copy()"
   ]
  },
  {
   "cell_type": "markdown",
   "metadata": {},
   "source": [
    "# 4.0. STEP 04 - EXPLORATORY DATA ANALYSIS (EDA)"
   ]
  },
  {
   "cell_type": "code",
   "execution_count": 16,
   "metadata": {
    "ExecuteTime": {
     "end_time": "2020-07-17T11:06:01.256666Z",
     "start_time": "2020-07-17T11:06:01.194665Z"
    }
   },
   "outputs": [],
   "source": [
    "df4 = df3.copy()"
   ]
  },
  {
   "cell_type": "code",
   "execution_count": 303,
   "metadata": {
    "ExecuteTime": {
     "end_time": "2020-07-17T16:46:49.639480Z",
     "start_time": "2020-07-17T16:46:49.634477Z"
    }
   },
   "outputs": [
    {
     "data": {
      "text/plain": [
       "299"
      ]
     },
     "execution_count": 303,
     "metadata": {},
     "output_type": "execute_result"
    }
   ],
   "source": [
    "len(df4)"
   ]
  },
  {
   "cell_type": "markdown",
   "metadata": {
    "heading_collapsed": true
   },
   "source": [
    "## 4.1. Analise Univariada"
   ]
  },
  {
   "cell_type": "markdown",
   "metadata": {
    "heading_collapsed": true,
    "hidden": true
   },
   "source": [
    "### 4.1.1. Response Variable"
   ]
  },
  {
   "cell_type": "code",
   "execution_count": 423,
   "metadata": {
    "ExecuteTime": {
     "end_time": "2020-07-17T18:59:02.841386Z",
     "start_time": "2020-07-17T18:59:02.559372Z"
    },
    "hidden": true
   },
   "outputs": [
    {
     "data": {
      "image/png": "[encoded data removed]",
      "text/plain": [
       "<Figure size 1656x720 with 1 Axes>"
      ]
     },
     "metadata": {},
     "output_type": "display_data"
    }
   ],
   "source": [
    "sns.distplot(df4['sex'], kde=False);"
   ]
  },
  {
   "cell_type": "markdown",
   "metadata": {
    "heading_collapsed": true,
    "hidden": true
   },
   "source": [
    "### 4.1.2. Numerical Variable"
   ]
  },
  {
   "cell_type": "code",
   "execution_count": 19,
   "metadata": {
    "ExecuteTime": {
     "end_time": "2020-07-17T11:06:05.219023Z",
     "start_time": "2020-07-17T11:06:01.657068Z"
    },
    "hidden": true
   },
   "outputs": [
    {
     "data": {
      "image/png": "[encoded data removed]",
      "text/plain": [
       "<Figure size 1800x864 with 16 Axes>"
      ]
     },
     "metadata": {},
     "output_type": "display_data"
    }
   ],
   "source": [
    "num_attributes.hist( bins=25);"
   ]
  },
  {
   "cell_type": "markdown",
   "metadata": {},
   "source": [
    "## 4.2. Analise Bivariada"
   ]
  },
  {
   "cell_type": "markdown",
   "metadata": {
    "ExecuteTime": {
     "end_time": "2020-07-15T23:10:59.159963Z",
     "start_time": "2020-07-15T23:10:59.156001Z"
    }
   },
   "source": [
    "### **H1.** Men die more than women from heart failure\n",
    "**False** Men die more than women from heart failure"
   ]
  },
  {
   "cell_type": "code",
   "execution_count": 461,
   "metadata": {
    "ExecuteTime": {
     "end_time": "2020-07-17T21:04:32.767609Z",
     "start_time": "2020-07-17T21:04:32.746609Z"
    }
   },
   "outputs": [],
   "source": [
    "aux1 = df4[(df4['death_event'] == 0)]\n",
    "aux1['sex'] = aux1['sex'].apply(lambda x: 'Female' if x == 0 else 'Male')\n",
    "aux2 = aux1[['sex', 'death_event']].groupby('sex').agg('count').reset_index()\n",
    "\n",
    "aux3 = df4[(df4['death_event'] == 1)]\n",
    "aux3['sex'] = aux3['sex'].apply(lambda x: 'Female' if x == 0 else 'Male')\n",
    "aux4 = aux3[['sex', 'death_event']].groupby('sex').agg('count').reset_index()"
   ]
  },
  {
   "cell_type": "code",
   "execution_count": 462,
   "metadata": {
    "ExecuteTime": {
     "end_time": "2020-07-17T21:04:33.863213Z",
     "start_time": "2020-07-17T21:04:33.848217Z"
    }
   },
   "outputs": [],
   "source": [
    "alive_male = len(aux1[aux1['sex'] == 'Male'])\n",
    "dead_male = len(aux3[aux3['sex'] == 'Male'])\n",
    "\n",
    "alive_female = len(aux1[aux1['sex'] == 'Female'])\n",
    "dead_female = len(aux3[aux3['sex'] == 'Female'])\n",
    "\n",
    "aux5 = pd.DataFrame([alive_male,dead_male, alive_female,dead_female])"
   ]
  },
  {
   "cell_type": "code",
   "execution_count": 463,
   "metadata": {
    "ExecuteTime": {
     "end_time": "2020-07-17T21:04:34.903217Z",
     "start_time": "2020-07-17T21:04:34.897217Z"
    }
   },
   "outputs": [],
   "source": [
    "aux5 = pd.DataFrame(np.array(aux5).reshape(1,4), columns = ('alive_male','dead_male','alive_female','dead_female'))"
   ]
  },
  {
   "cell_type": "code",
   "execution_count": 464,
   "metadata": {
    "ExecuteTime": {
     "end_time": "2020-07-17T21:04:36.049914Z",
     "start_time": "2020-07-17T21:04:36.032903Z"
    }
   },
   "outputs": [
    {
     "data": {
      "text/plain": [
       "{'Male': [132, 62]}"
      ]
     },
     "execution_count": 464,
     "metadata": {},
     "output_type": "execute_result"
    }
   ],
   "source": [
    "male_soma = (aux5.loc[0][0] , aux5.loc[0][1])\n",
    "male_soma = list(male_soma)\n",
    "male_soma = {'Male': male_soma}\n",
    "male_soma"
   ]
  },
  {
   "cell_type": "code",
   "execution_count": 465,
   "metadata": {
    "ExecuteTime": {
     "end_time": "2020-07-17T21:04:37.611284Z",
     "start_time": "2020-07-17T21:04:37.596285Z"
    }
   },
   "outputs": [
    {
     "data": {
      "text/plain": [
       "{'Female': [71, 34]}"
      ]
     },
     "execution_count": 465,
     "metadata": {},
     "output_type": "execute_result"
    }
   ],
   "source": [
    "female_soma = (aux5.loc[0][2] , aux5.loc[0][3])\n",
    "female_soma = list(female_soma)\n",
    "female_soma = {'Female': female_soma}\n",
    "female_soma"
   ]
  },
  {
   "cell_type": "code",
   "execution_count": 466,
   "metadata": {
    "ExecuteTime": {
     "end_time": "2020-07-17T21:04:39.894924Z",
     "start_time": "2020-07-17T21:04:39.130845Z"
    }
   },
   "outputs": [
    {
     "data": {
      "text/plain": [
       "Text(0.5, 1.0, 'Dead x Alive')"
      ]
     },
     "execution_count": 466,
     "metadata": {},
     "output_type": "execute_result"
    },
    {
     "data": {
      "image/png": "[encoded data removed]",
      "text/plain": [
       "<Figure size 1440x576 with 3 Axes>"
      ]
     },
     "metadata": {},
     "output_type": "display_data"
    }
   ],
   "source": [
    "plt.subplot(1,3,1)\n",
    "sns.barplot(x='sex', y='death_event', data=aux2)\n",
    "plt.title('Alive')\n",
    "\n",
    "plt.subplot(1,3,2)\n",
    "sns.barplot(x='sex', y='death_event', data=aux4)\n",
    "plt.title('Dead')\n",
    "\n",
    "plt.subplot(1,3,3)\n",
    "sns.barplot(x='sex', y='death_event', data=aux2 , label = 'Alive', color = 'b')\n",
    "sns.barplot(x='sex', y='death_event', data=aux4, label = 'Dead', color = 'y')\n",
    "plt.ylabel('death_event')\n",
    "plt.xlabel('sex')\n",
    "plt.legend()\n",
    "plt.title('Dead x Alive')"
   ]
  },
  {
   "cell_type": "code",
   "execution_count": 467,
   "metadata": {
    "ExecuteTime": {
     "end_time": "2020-07-17T21:04:45.016743Z",
     "start_time": "2020-07-17T21:04:44.769745Z"
    }
   },
   "outputs": [
    {
     "data": {
      "text/plain": [
       "<AxesSubplot:ylabel='Female'>"
      ]
     },
     "execution_count": 467,
     "metadata": {},
     "output_type": "execute_result"
    },
    {
     "data": {
      "image/png": "[encoded data removed]",
      "text/plain": [
       "<Figure size 1440x576 with 2 Axes>"
      ]
     },
     "metadata": {},
     "output_type": "display_data"
    }
   ],
   "source": [
    "ax1 = plt.subplot(121, aspect='auto')\n",
    "Data = male_soma\n",
    "# Data = {'Male': [132,62]};\n",
    "df = DataFrame(Data,columns=['Male'],index = ['alive','dead'])\n",
    "plt.rc('axes', labelsize=20) \n",
    "df.plot(kind='pie', y = 'Male', ax=ax1, autopct='%1.1f%%', startangle=90, shadow=False, legend = False, fontsize=20)\n",
    "\n",
    "ax1 = plt.subplot(122, aspect='auto')\n",
    "Data = female_soma\n",
    "# Data = {'Female': [71,34]}\n",
    "df = DataFrame(Data,columns=['Female'],index = ['alive','dead'])\n",
    "plt.rc('axes', labelsize=20) \n",
    "df.plot(kind='pie', y = 'Female', ax=ax1, autopct='%1.1f%%', startangle=90, shadow=False, legend = False, fontsize=20)"
   ]
  },
  {
   "cell_type": "code",
   "execution_count": 468,
   "metadata": {
    "ExecuteTime": {
     "end_time": "2020-07-17T21:04:46.754179Z",
     "start_time": "2020-07-17T21:04:46.741181Z"
    }
   },
   "outputs": [
    {
     "name": "stdout",
     "output_type": "stream",
     "text": [
      "--------- Alive ---------\n",
      "The percentage of Male alive is:   68.04%\n",
      "The percentage of Female alive is: 67.62%\n",
      "\n",
      "--------- Dead ---------\n",
      "The percentage of Male dead is:   31.96%\n",
      "The percentage of Female dead is: 32.38%\n"
     ]
    }
   ],
   "source": [
    "print('--------- Alive ---------')\n",
    "\n",
    "alive_male_percentual = alive_male / 194 * 100\n",
    "print('The percentage of Male alive is:   {:,.2f}%'.format(alive_male_percentual)) \n",
    "\n",
    "alive_female_percentual = alive_female / 105 * 100\n",
    "print('The percentage of Female alive is: {:,.2f}%'.format(alive_female_percentual))\n",
    "\n",
    "print('')\n",
    "print('--------- Dead ---------')\n",
    "dead_male_percentual = dead_male / 194 * 100\n",
    "print('The percentage of Male dead is:   {:,.2f}%'.format(dead_male_percentual)) \n",
    "\n",
    "dead_female_percentual = dead_female / 105 * 100\n",
    "print('The percentage of Female dead is: {:,.2f}%'.format(dead_female_percentual))"
   ]
  },
  {
   "cell_type": "markdown",
   "metadata": {},
   "source": [
    "### **H2.** People who smoke die more from heart failure\n",
    "**False** People who do not smoke die more from heart failure"
   ]
  },
  {
   "cell_type": "code",
   "execution_count": 487,
   "metadata": {
    "ExecuteTime": {
     "end_time": "2020-07-17T21:15:51.236750Z",
     "start_time": "2020-07-17T21:15:51.213755Z"
    }
   },
   "outputs": [],
   "source": [
    "aux1 = df4[(df4['death_event'] == 0)]\n",
    "aux1['smoking'] = aux1['smoking'].apply(lambda x: 'non_smoking' if x == 0 else 'smoker')\n",
    "aux2 = aux1[['smoking', 'death_event']].groupby('smoking').agg('count').reset_index()\n",
    "\n",
    "aux3 = df4[(df4['death_event'] == 1)]\n",
    "aux3['smoking'] = aux3['smoking'].apply(lambda x: 'non_smoking' if x == 0 else 'smoker')\n",
    "aux4 = aux3[['smoking', 'death_event']].groupby('smoking').agg('count').reset_index()"
   ]
  },
  {
   "cell_type": "code",
   "execution_count": 491,
   "metadata": {
    "ExecuteTime": {
     "end_time": "2020-07-17T21:16:55.483726Z",
     "start_time": "2020-07-17T21:16:55.475725Z"
    }
   },
   "outputs": [
    {
     "data": {
      "text/html": [
       "<div>\n",
       "<style scoped>\n",
       "    .dataframe tbody tr th:only-of-type {\n",
       "        vertical-align: middle;\n",
       "    }\n",
       "\n",
       "    .dataframe tbody tr th {\n",
       "        vertical-align: top;\n",
       "    }\n",
       "\n",
       "    .dataframe thead th {\n",
       "        text-align: right;\n",
       "    }\n",
       "</style>\n",
       "<table border=\"1\" class=\"dataframe\">\n",
       "  <thead>\n",
       "    <tr style=\"text-align: right;\">\n",
       "      <th></th>\n",
       "      <th>smoking</th>\n",
       "      <th>death_event</th>\n",
       "    </tr>\n",
       "  </thead>\n",
       "  <tbody>\n",
       "    <tr>\n",
       "      <th>0</th>\n",
       "      <td>non_smoking</td>\n",
       "      <td>66</td>\n",
       "    </tr>\n",
       "    <tr>\n",
       "      <th>1</th>\n",
       "      <td>smoker</td>\n",
       "      <td>30</td>\n",
       "    </tr>\n",
       "  </tbody>\n",
       "</table>\n",
       "</div>"
      ],
      "text/plain": [
       "       smoking  death_event\n",
       "0  non_smoking           66\n",
       "1       smoker           30"
      ]
     },
     "execution_count": 491,
     "metadata": {},
     "output_type": "execute_result"
    }
   ],
   "source": [
    "aux4.head()"
   ]
  },
  {
   "cell_type": "code",
   "execution_count": 495,
   "metadata": {
    "ExecuteTime": {
     "end_time": "2020-07-17T21:24:44.784282Z",
     "start_time": "2020-07-17T21:24:44.772286Z"
    }
   },
   "outputs": [],
   "source": [
    "alive_non_smoking = len(aux1[aux1['smoking'] == 'non_smoking'])\n",
    "dead_non_smoking = len(aux3[aux3['smoking'] == 'non_smoking'])\n",
    "\n",
    "alive_smoker = len(aux1[aux1['smoking'] == 'smoker'])\n",
    "dead_smoker = len(aux3[aux3['smoking'] == 'smoker'])\n",
    "\n",
    "aux5 = pd.DataFrame([alive_non_smoking,dead_non_smoking, alive_smoker, dead_smoker])"
   ]
  },
  {
   "cell_type": "code",
   "execution_count": 496,
   "metadata": {
    "ExecuteTime": {
     "end_time": "2020-07-17T21:24:45.710797Z",
     "start_time": "2020-07-17T21:24:45.691801Z"
    }
   },
   "outputs": [],
   "source": [
    "aux5 = pd.DataFrame(np.array(aux5).reshape(1,4), columns = ('alive_non_smoking','dead_non_smoking', 'alive_smoker', 'dead_smoker'))"
   ]
  },
  {
   "cell_type": "code",
   "execution_count": 497,
   "metadata": {
    "ExecuteTime": {
     "end_time": "2020-07-17T21:24:46.446233Z",
     "start_time": "2020-07-17T21:24:46.424234Z"
    }
   },
   "outputs": [
    {
     "data": {
      "text/html": [
       "<div>\n",
       "<style scoped>\n",
       "    .dataframe tbody tr th:only-of-type {\n",
       "        vertical-align: middle;\n",
       "    }\n",
       "\n",
       "    .dataframe tbody tr th {\n",
       "        vertical-align: top;\n",
       "    }\n",
       "\n",
       "    .dataframe thead th {\n",
       "        text-align: right;\n",
       "    }\n",
       "</style>\n",
       "<table border=\"1\" class=\"dataframe\">\n",
       "  <thead>\n",
       "    <tr style=\"text-align: right;\">\n",
       "      <th></th>\n",
       "      <th>alive_non_smoking</th>\n",
       "      <th>dead_non_smoking</th>\n",
       "      <th>alive_smoker</th>\n",
       "      <th>dead_smoker</th>\n",
       "    </tr>\n",
       "  </thead>\n",
       "  <tbody>\n",
       "    <tr>\n",
       "      <th>0</th>\n",
       "      <td>137</td>\n",
       "      <td>66</td>\n",
       "      <td>66</td>\n",
       "      <td>30</td>\n",
       "    </tr>\n",
       "  </tbody>\n",
       "</table>\n",
       "</div>"
      ],
      "text/plain": [
       "   alive_non_smoking  dead_non_smoking  alive_smoker  dead_smoker\n",
       "0                137                66            66           30"
      ]
     },
     "execution_count": 497,
     "metadata": {},
     "output_type": "execute_result"
    }
   ],
   "source": [
    "aux5.head()"
   ]
  },
  {
   "cell_type": "code",
   "execution_count": 498,
   "metadata": {
    "ExecuteTime": {
     "end_time": "2020-07-17T21:24:48.238779Z",
     "start_time": "2020-07-17T21:24:48.225782Z"
    }
   },
   "outputs": [
    {
     "data": {
      "text/plain": [
       "{'non_smoking': [137, 66]}"
      ]
     },
     "execution_count": 498,
     "metadata": {},
     "output_type": "execute_result"
    }
   ],
   "source": [
    "non_smoking_soma = (aux5.loc[0][0] , aux5.loc[0][1])\n",
    "non_smoking_soma = list(non_smoking_soma)\n",
    "non_smoking_soma = {'non_smoking': non_smoking_soma}\n",
    "non_smoking_soma"
   ]
  },
  {
   "cell_type": "code",
   "execution_count": 499,
   "metadata": {
    "ExecuteTime": {
     "end_time": "2020-07-17T21:24:49.238005Z",
     "start_time": "2020-07-17T21:24:49.223007Z"
    }
   },
   "outputs": [
    {
     "data": {
      "text/plain": [
       "{'smoker': [66, 30]}"
      ]
     },
     "execution_count": 499,
     "metadata": {},
     "output_type": "execute_result"
    }
   ],
   "source": [
    "smoker_soma = (aux5.loc[0][2] , aux5.loc[0][3])\n",
    "smoker_soma = list(smoker_soma)\n",
    "smoker_soma = {'smoker': smoker_soma}\n",
    "smoker_soma"
   ]
  },
  {
   "cell_type": "code",
   "execution_count": 500,
   "metadata": {
    "ExecuteTime": {
     "end_time": "2020-07-17T21:24:51.301695Z",
     "start_time": "2020-07-17T21:24:50.752697Z"
    }
   },
   "outputs": [
    {
     "data": {
      "text/plain": [
       "Text(0.5, 1.0, 'Dead x Alive')"
      ]
     },
     "execution_count": 500,
     "metadata": {},
     "output_type": "execute_result"
    },
    {
     "data": {
      "image/png": "[encoded data removed]",
      "text/plain": [
       "<Figure size 1440x576 with 3 Axes>"
      ]
     },
     "metadata": {},
     "output_type": "display_data"
    }
   ],
   "source": [
    "plt.subplot(1,3,1)\n",
    "sns.barplot(x='smoking', y='death_event', data=aux2)\n",
    "plt.title('Alive')\n",
    "\n",
    "plt.subplot(1,3,2)\n",
    "sns.barplot(x='smoking', y='death_event', data=aux4)\n",
    "plt.title('Dead')\n",
    "\n",
    "plt.subplot(1,3,3)\n",
    "sns.barplot(x='smoking', y='death_event', data=aux2 , label = 'Alive', color = 'b')\n",
    "sns.barplot(x='smoking', y='death_event', data=aux4, label = 'Dead', color = 'y')\n",
    "plt.ylabel('death_event')\n",
    "plt.xlabel('smoking')\n",
    "plt.legend()\n",
    "plt.title('Dead x Alive')"
   ]
  },
  {
   "cell_type": "code",
   "execution_count": 501,
   "metadata": {
    "ExecuteTime": {
     "end_time": "2020-07-17T21:24:51.969825Z",
     "start_time": "2020-07-17T21:24:51.711712Z"
    }
   },
   "outputs": [
    {
     "data": {
      "text/plain": [
       "<AxesSubplot:ylabel='smoker'>"
      ]
     },
     "execution_count": 501,
     "metadata": {},
     "output_type": "execute_result"
    },
    {
     "data": {
      "image/png": "[encoded data removed]",
      "text/plain": [
       "<Figure size 1440x576 with 2 Axes>"
      ]
     },
     "metadata": {},
     "output_type": "display_data"
    }
   ],
   "source": [
    "ax1 = plt.subplot(121, aspect='auto')\n",
    "Data = non_smoking_soma\n",
    "# Data = {'Male': [132,62]};\n",
    "df = DataFrame(Data,columns=['non_smoking'],index = ['alive','dead'])\n",
    "plt.rc('axes', labelsize=20) \n",
    "df.plot(kind='pie', y = 'non_smoking', ax=ax1, autopct='%1.1f%%', startangle=90, shadow=False, legend = False, fontsize=20)\n",
    "\n",
    "ax1 = plt.subplot(122, aspect='auto')\n",
    "Data = smoker_soma\n",
    "# Data = {'Female': [71,34]}\n",
    "df = DataFrame(Data,columns=['smoker'],index = ['alive','dead'])\n",
    "plt.rc('axes', labelsize=20) \n",
    "df.plot(kind='pie', y = 'smoker', ax=ax1, autopct='%1.1f%%', startangle=90, shadow=False, legend = False, fontsize=20)"
   ]
  },
  {
   "cell_type": "code",
   "execution_count": 512,
   "metadata": {
    "ExecuteTime": {
     "end_time": "2020-07-17T21:28:39.734854Z",
     "start_time": "2020-07-17T21:28:39.720857Z"
    }
   },
   "outputs": [
    {
     "name": "stdout",
     "output_type": "stream",
     "text": [
      "--------- Alive ---------\n",
      "The percentage of non_smoking alive is: 67.49%\n",
      "The percentage of smork alive is:       68.75%\n",
      "\n",
      "--------- Dead ---------\n",
      "The percentage of non_smoking dead is:  32.51%\n",
      "The percentage of smoker dead is:       31.25%\n"
     ]
    }
   ],
   "source": [
    "print('--------- Alive ---------')\n",
    "\n",
    "alive_non_smoking_percentual = alive_non_smoking / 203 * 100\n",
    "print('The percentage of non_smoking alive is: {:,.2f}%'.format(alive_non_smoking_percentual)) \n",
    "\n",
    "alive_smoker_percentual = alive_smoker / 96 * 100\n",
    "print('The percentage of smork alive is:       {:,.2f}%'.format(alive_smoker_percentual))\n",
    "\n",
    "print('')\n",
    "print('--------- Dead ---------')\n",
    "dead_non_smoking_percentual = dead_non_smoking / 203 * 100\n",
    "print('The percentage of non_smoking dead is:  {:,.2f}%'.format(dead_non_smoking_percentual)) \n",
    "\n",
    "dead_smoker_percentual = dead_smoker / 96 * 100\n",
    "print('The percentage of smoker dead is:       {:,.2f}%'.format(dead_smoker_percentual))"
   ]
  },
  {
   "cell_type": "code",
   "execution_count": null,
   "metadata": {},
   "outputs": [],
   "source": []
  },
  {
   "cell_type": "markdown",
   "metadata": {},
   "source": [
    "### **H3.** "
   ]
  },
  {
   "cell_type": "code",
   "execution_count": 441,
   "metadata": {
    "ExecuteTime": {
     "end_time": "2020-07-17T19:34:18.984295Z",
     "start_time": "2020-07-17T19:34:18.962298Z"
    }
   },
   "outputs": [
    {
     "name": "stdout",
     "output_type": "stream",
     "text": [
      "--------- Não Depressão---------\n",
      "O percentual de homens sem depressão é:   0.00%\n",
      "O percentual de mulheres sem depressão é:  2.04%\n",
      "\n",
      "--------- Com Depressão ---------\n",
      "O percentual de homens com depressão é:    100.00%\n",
      "O percentual de mulheres com depressão é: 97.96%\n",
      "\n",
      "--------- Representação de Gêneros na Pesquisa ---------\n",
      "A representação de homens na pesquisa é de 3.92%, e a representação das mulheres na pesquisa é de 96.08%\n"
     ]
    }
   ],
   "source": [
    "print('--------- Não Depressão---------')\n",
    "\n",
    "h_s = 0 / 2 * 100\n",
    "print('O percentual de homens sem depressão é:   {:,.2f}%'.format(h_s)) \n",
    "\n",
    "m_s = 1 / 49 * 100\n",
    "print('O percentual de mulheres sem depressão é:  {:,.2f}%'.format(m_s))\n",
    "\n",
    "print('')\n",
    "print('--------- Com Depressão ---------')\n",
    "h_c = 2 / 2 * 100\n",
    "print('O percentual de homens com depressão é:    {:,.2f}%'.format(h_c)) \n",
    "\n",
    "m_c = 48 / 49 * 100\n",
    "print('O percentual de mulheres com depressão é: {:,.2f}%'.format(m_c))\n",
    "\n",
    "print('')\n",
    "print('--------- Representação de Gêneros na Pesquisa ---------')\n",
    "\n",
    "repreh = 2 / 51 * 100\n",
    "reprem = 49 / 51 * 100\n",
    "\n",
    "print('A representação de homens na pesquisa é de {:,.2f}%, e a representação das mulheres na pesquisa é de {:,.2f}%'.format(repreh, reprem))"
   ]
  },
  {
   "cell_type": "code",
   "execution_count": null,
   "metadata": {},
   "outputs": [],
   "source": []
  }
 ],
 "metadata": {
  "kernelspec": {
   "display_name": "Python 3",
   "language": "python",
   "name": "python3"
  },
  "language_info": {
   "codemirror_mode": {
    "name": "ipython",
    "version": 3
   },
   "file_extension": ".py",
   "mimetype": "text/x-python",
   "name": "python",
   "nbconvert_exporter": "python",
   "pygments_lexer": "ipython3",
   "version": "3.8.3"
  },
  "nbTranslate": {
   "displayLangs": [
    "*"
   ],
   "hotkey": "alt-t",
   "langInMainMenu": true,
   "sourceLang": "en",
   "targetLang": "fr",
   "useGoogleTranslate": true
  }
 },
 "nbformat": 4,
 "nbformat_minor": 4
}
